{
 "cells": [
  {
   "cell_type": "code",
   "execution_count": 19,
   "metadata": {},
   "outputs": [
    {
     "name": "stdout",
     "output_type": "stream",
     "text": [
      "2020-08-28 00:37:04,998 INFO sqlalchemy.engine.base.Engine SELECT CAST('test plain returns' AS VARCHAR(60)) AS anon_1\n",
      "2020-08-28 00:37:04,999 INFO sqlalchemy.engine.base.Engine ()\n",
      "2020-08-28 00:37:05,001 INFO sqlalchemy.engine.base.Engine SELECT CAST('test unicode returns' AS VARCHAR(60)) AS anon_1\n",
      "2020-08-28 00:37:05,002 INFO sqlalchemy.engine.base.Engine ()\n",
      "2020-08-28 00:37:05,004 INFO sqlalchemy.engine.base.Engine PRAGMA main.table_info(\"alch_tbl\")\n",
      "2020-08-28 00:37:05,005 INFO sqlalchemy.engine.base.Engine ()\n",
      "2020-08-28 00:37:05,009 INFO sqlalchemy.engine.base.Engine BEGIN (implicit)\n",
      "2020-08-28 00:37:05,010 INFO sqlalchemy.engine.base.Engine INSERT INTO alch_tbl (name, ip, sock, is_active) VALUES (?, ?, ?, ?)\n",
      "2020-08-28 00:37:05,011 INFO sqlalchemy.engine.base.Engine ('Olga', '192.168.1.31', '', 1)\n",
      "2020-08-28 00:37:05,013 INFO sqlalchemy.engine.base.Engine COMMIT\n"
     ]
    }
   ],
   "source": [
    "import os\n",
    "from sqlalchemy import *\n",
    "from sqlalchemy.orm import mapper, sessionmaker\n",
    "from sqlalchemy.ext.declarative import declarative_base\n",
    "\n",
    "\n",
    "path = os.getcwd()\n",
    "\n",
    "\n",
    "engine = create_engine(f'sqlite:///{path}\\\\..\\\\test.sql', echo=True, pool_recycle=7200)\n",
    "Base = declarative_base()\n",
    "\n",
    "\n",
    "class User(Base):\n",
    "    __tablename__ = 'alch_tbl'\n",
    "    id = Column(Integer, primary_key=True)\n",
    "    name = Column(String(50))\n",
    "    ip = Column(String(100))\n",
    "    sock = Column(String)\n",
    "    is_active = Column(Boolean)\n",
    "\n",
    "    def __init__(self, name, ip, sock, is_active):\n",
    "        self.name = name\n",
    "        self.ip = ip\n",
    "        self.sock = sock\n",
    "        self.is_active = is_active\n",
    "\n",
    "    def __repr__(self):\n",
    "        return f'<User {self.name}, ip {self.ip}, active = {self.is_active}>'\n",
    "\n",
    "\n",
    "Base.metadata.create_all(engine)\n",
    "\n",
    "\n",
    "Session = sessionmaker(bind=engine)\n",
    "Session.configure(bind=engine)\n",
    "session = Session()\n",
    "\n",
    "\n",
    "alch_table = User.__table__\n",
    "\n",
    "\n",
    "uOlga = User('Olga', '192.168.1.31', '', True)\n",
    "session.add(uOlga)\n",
    "\n",
    "session.commit()"
   ]
  },
  {
   "cell_type": "code",
   "execution_count": 21,
   "metadata": {},
   "outputs": [
    {
     "data": {
      "text/plain": [
       "IdentitySet([])"
      ]
     },
     "execution_count": 21,
     "metadata": {},
     "output_type": "execute_result"
    }
   ],
   "source": [
    "User.id"
   ]
  },
  {
   "cell_type": "code",
   "execution_count": 20,
   "metadata": {},
   "outputs": [
    {
     "name": "stdout",
     "output_type": "stream",
     "text": [
      "2020-08-28 00:37:07,791 INFO sqlalchemy.engine.base.Engine BEGIN (implicit)\n",
      "2020-08-28 00:37:07,792 INFO sqlalchemy.engine.base.Engine SELECT alch_tbl.id AS alch_tbl_id, alch_tbl.name AS alch_tbl_name, alch_tbl.ip AS alch_tbl_ip, alch_tbl.sock AS alch_tbl_sock, alch_tbl.is_active AS alch_tbl_is_active \n",
      "FROM alch_tbl\n",
      "2020-08-28 00:37:07,793 INFO sqlalchemy.engine.base.Engine ()\n",
      "<User Olga, ip 192.168.1.31, active = True>\n",
      "<User Olga, ip 192.168.1.31, active = True>\n",
      "<User Olga, ip 192.168.1.31, active = True>\n",
      "<User Olga, ip 192.168.1.31, active = True>\n",
      "<User Olga, ip 192.168.1.31, active = True>\n"
     ]
    }
   ],
   "source": [
    "for i in session.query(User):\n",
    "    print(i)"
   ]
  },
  {
   "cell_type": "code",
   "execution_count": null,
   "metadata": {},
   "outputs": [],
   "source": [
    "import sys\n",
    "from PyQt5.QtWidgets import QApplication, QWidget       # [1]\n",
    "\n",
    "if __name__ == '__main__':\n",
    "    app = QApplication(sys.argv)                        # [2]\n",
    "\n",
    "    w = QWidget()                                       # [3]\n",
    "    w.resize(250, 150)                                  # [4]\n",
    "    w.move(300, 300)                                    # [5]\n",
    "    w.setWindowTitle('Simple')                          # [6]\n",
    "    w.show()                                            # [7]\n",
    "    \n",
    "    sys.exit(app.exec_())    "
   ]
  },
  {
   "cell_type": "code",
   "execution_count": null,
   "metadata": {},
   "outputs": [],
   "source": []
  }
 ],
 "metadata": {
  "kernelspec": {
   "display_name": "Python 3",
   "language": "python",
   "name": "python3"
  },
  "language_info": {
   "codemirror_mode": {
    "name": "ipython",
    "version": 3
   },
   "file_extension": ".py",
   "mimetype": "text/x-python",
   "name": "python",
   "nbconvert_exporter": "python",
   "pygments_lexer": "ipython3",
   "version": "3.8.5"
  }
 },
 "nbformat": 4,
 "nbformat_minor": 4
}